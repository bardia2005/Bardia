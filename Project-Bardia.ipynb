{
 "cells": [
  {
   "cell_type": "markdown",
   "id": "ad4ab84e",
   "metadata": {},
   "source": [
    "# **Probability 1 Project**"
   ]
  },
  {
   "cell_type": "markdown",
   "id": "66ac2459",
   "metadata": {},
   "source": [
    "$\n",
    "\\textcolor{gray}{Student}: \\textit{Bardia Barghi}\n",
    "$\n",
    "\n",
    "$\n",
    "\\textcolor{gray}{Number}: \\textit{610303118}\n",
    "$"
   ]
  },
  {
   "cell_type": "markdown",
   "id": "9ac2655e",
   "metadata": {},
   "source": [
    "### **Part 1**: Calculating Posterior Probabilities With *Discrete Priors*\n",
    "\n"
   ]
  },
  {
   "cell_type": "markdown",
   "id": "c6c1d3fd",
   "metadata": {},
   "source": [
    "We first calculate all the *Likelihoods* for different $\\theta$ values.\n",
    "\n",
    "$\\theta$ values are represented by a set of 10 possible values ranging from 0.1 to 1 in 0.1 steps: $\\theta$ $\\in$ $\\{0.1, 0.2, 0.3, 0.4, 0.5, 0.6, 0.7, 0.8, 0.9, 1\\}$\n",
    "\n",
    "With the Prior belief being: $\\space$ $\\pi_{Ghader}(\\theta)$ = $\\{0.05, 0.05, 0.1, 0.1, 0.2, 0.2, 0.1, 0.1, 0.05, 0.05\\}$\n",
    "\n",
    "The *Likelihood* for each value of  $\\theta$  (with values `n = 20` and `k = 12`) has a *Binomial* Distribution as written below:"
   ]
  },
  {
   "cell_type": "markdown",
   "id": "65f64dd3",
   "metadata": {},
   "source": [
    "$$\n",
    "\\textcolor{cyan}{Likelihood}(\\theta) = \\displaystyle\\binom{20}{12} \\cdot (\\theta) ^ {12} \\cdot (1 - \\theta) ^ 8\n",
    "$$"
   ]
  },
  {
   "cell_type": "markdown",
   "id": "23ad4868",
   "metadata": {},
   "source": [
    "By having the *likelihood* of each  $\\theta$, We can also calculate the $\\textit{Unnormalized Posterior Probability}$ of $\\theta$ simply by multiplying the *Likelihood* and the *Prior Probability*: "
   ]
  },
  {
   "cell_type": "markdown",
   "id": "37a3dc98",
   "metadata": {},
   "source": [
    "$$\n",
    "\\textcolor{cyan}{Unnormalized \\; Posterior}(\\theta) = P(X ∣ \\theta) ⋅ P(\\theta) = \\text{Likelihood} \\times \\text{Prior}\n",
    "$$"
   ]
  },
  {
   "cell_type": "markdown",
   "id": "dfd36361",
   "metadata": {},
   "source": [
    "The $\\textit{Noramlized Posterior Probability}$ can be derived from dividing the *Unnormalized Posterior* by the summation of *Unnormalized Posterior* for every $\\theta$ $\\in$ $\\pi_{Ghader}$ $\\:$ :"
   ]
  },
  {
   "cell_type": "markdown",
   "id": "3d86039d",
   "metadata": {},
   "source": [
    "$$\n",
    "\\textcolor{cyan}{Normalized \\; Posterior}(\\theta) = \\frac{Unnormalized \\; Posterior (\\theta)}{\\sum_{\\theta^`}P(X ∣ \\theta^`) ⋅ P(\\theta^`)}\n",
    "$$"
   ]
  },
  {
   "cell_type": "markdown",
   "id": "d8bfa625",
   "metadata": {},
   "source": [
    "We then create these sets one by one: "
   ]
  },
  {
   "cell_type": "code",
   "execution_count": 27,
   "id": "4c50bd84",
   "metadata": {},
   "outputs": [],
   "source": [
    "from scipy.special import comb\n",
    "\n",
    "theta_values = [0.1, 0.2, 0.3, 0.4, 0.5, 0.6, 0.7, 0.8, 0.9, 1]\n",
    "prior_probability = [0.05, 0.05, 0.1, 0.1, 0.2, 0.2, 0.1, 0.1, 0.05, 0.05]\n",
    "likelihood = [float(format((comb(20, 12) * (i ** 12) * ((1 - i) ** (20 - 12))), 'f')) for i in theta_values]\n",
    "unnormalized_posterior = [prior_probability[i] * likelihood[j] for i in range(10) for j in range(10) if i == j]\n",
    "normalized_posterior = [i / sum(unnormalized_posterior) for i in unnormalized_posterior]"
   ]
  },
  {
   "cell_type": "markdown",
   "id": "5b9df363",
   "metadata": {},
   "source": [
    "And finally, We build our table with the data at hand:\n",
    "\n",
    "![Table Image](https://i.ibb.co/b5WDFB2j/Table.png)"
   ]
  },
  {
   "cell_type": "markdown",
   "id": "29c3210e",
   "metadata": {},
   "source": [
    "And here's the code snippet for printing out the table:"
   ]
  },
  {
   "cell_type": "code",
   "execution_count": 28,
   "id": "579dfd95",
   "metadata": {},
   "outputs": [
    {
     "name": "stdout",
     "output_type": "stream",
     "text": [
      "   Theta  Prior  Likelihood  Unnormalized Posterior  Normalized Posterior\n",
      "0    0.1   0.05    0.000000                0.000000              0.000000\n",
      "1    0.2   0.05    0.000087                0.000004              0.000056\n",
      "2    0.3   0.10    0.003859                0.000386              0.004974\n",
      "3    0.4   0.10    0.035497                0.003550              0.045754\n",
      "4    0.5   0.20    0.120134                0.024027              0.309697\n",
      "5    0.6   0.20    0.179706                0.035941              0.463270\n",
      "6    0.7   0.10    0.114397                0.011440              0.147454\n",
      "7    0.8   0.10    0.022161                0.002216              0.028565\n",
      "8    0.9   0.05    0.000356                0.000018              0.000229\n",
      "9    1.0   0.05    0.000000                0.000000              0.000000\n"
     ]
    }
   ],
   "source": [
    "from scipy.special import comb\n",
    "import numpy as np\n",
    "import pandas as pd\n",
    "import matplotlib.pyplot as plt\n",
    "\n",
    "N = 100000\n",
    "\n",
    "theta_values = [0.1, 0.2, 0.3, 0.4, 0.5, 0.6, 0.7, 0.8, 0.9, 1]\n",
    "prior_probability = [0.05, 0.05, 0.1, 0.1, 0.2, 0.2, 0.1, 0.1, 0.05, 0.05]\n",
    "likelihood = [float(format((comb(20, 12) * (i ** 12) * ((1 - i) ** (20 - 12))), 'f')) for i in theta_values]\n",
    "unnormalized_posterior = [prior_probability[i] * likelihood[j] for i in range(10) for j in range(10) if i == j]\n",
    "normalized_posterior = [i / sum(unnormalized_posterior) for i in unnormalized_posterior]\n",
    "\n",
    "data = {\n",
    "    \"Theta\": theta_values,\n",
    "    \"Prior\": prior_probability,\n",
    "    \"Likelihood\": likelihood,\n",
    "    \"Unnormalized Posterior\": unnormalized_posterior,\n",
    "    \"Normalized Posterior\": normalized_posterior\n",
    "}\n",
    "\n",
    "df = pd.DataFrame(data)\n",
    "print(df)\n"
   ]
  }
 ],
 "metadata": {
  "kernelspec": {
   "display_name": "Python 3",
   "language": "python",
   "name": "python3"
  },
  "language_info": {
   "codemirror_mode": {
    "name": "ipython",
    "version": 3
   },
   "file_extension": ".py",
   "mimetype": "text/x-python",
   "name": "python",
   "nbconvert_exporter": "python",
   "pygments_lexer": "ipython3",
   "version": "3.13.0"
  }
 },
 "nbformat": 4,
 "nbformat_minor": 5
}
